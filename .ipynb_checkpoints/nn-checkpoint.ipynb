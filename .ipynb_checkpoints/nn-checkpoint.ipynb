{
 "cells": [
  {
   "cell_type": "code",
   "execution_count": 217,
   "metadata": {
    "scrolled": true
   },
   "outputs": [],
   "source": [
    "import numpy, scipy.special, matplotlib.pyplot, imageio, scipy.ndimage\n",
    "%matplotlib inline\n",
    "\n",
    "\"\"\"\n",
    "    Images are 28x28 greyscale which makes up 784 pixels\n",
    "    Training and testing data are from the MNIST database as CSV files\n",
    "    In these files RGB values are flipped so 255 is black and 0 is white\n",
    "\"\"\"\n",
    "\n",
    "class NeuralNetwork:\n",
    "    def __init__(self, input_nodes, hidden_nodes, output_nodes, learning_rate):\n",
    "        self.inodes = input_nodes\n",
    "        self.hnodes = hidden_nodes\n",
    "        self.onodes = output_nodes\n",
    "        self.lr = learning_rate\n",
    "        \n",
    "        # link weights between input-hidden and hidden-output layer\n",
    "        # use a probability distribution centered around 0.0, 1/(num of incoming signals)^-1/2\n",
    "        self.wih = numpy.random.normal(0.0, pow(self.hnodes, -0.5), (self.hnodes, self.inodes))\n",
    "        self.who = numpy.random.normal(0.0, pow(self.onodes, -0.5), (self.onodes, self.hnodes))\n",
    "    \n",
    "        # apply the activation function (sigmoid) to hidden layer input\n",
    "        self.activation_function = lambda x: scipy.special.expit(x)\n",
    "    \n",
    "    def train(self, inputs_array, targets_array):\n",
    "        # 2d transposed array\n",
    "        targets = numpy.array(targets_array, ndmin=2).T\n",
    "        inputs = numpy.array(inputs_array, ndmin=2).T\n",
    "        \n",
    "        # calculate the output from input layer to hidden layer\n",
    "        hidden_inputs = numpy.dot(self.wih, inputs)\n",
    "        hidden_outputs = self.activation_function(hidden_inputs)\n",
    "        \n",
    "        # calculate the output from hidden layer to output layer\n",
    "        final_inputs = numpy.dot(self.who, hidden_outputs)\n",
    "        final_outputs = self.activation_function(final_inputs)\n",
    "        \n",
    "        output_errors = targets - final_outputs\n",
    "        \n",
    "        # hidden layer error calculation\n",
    "        hidden_errors = numpy.dot(self.who.T, output_errors)\n",
    "        \n",
    "        # update weights between output and hidden layer\n",
    "        self.who += self.lr * numpy.dot((output_errors * final_outputs * (1.0 - final_outputs)),\n",
    "                                       numpy.transpose(hidden_outputs))\n",
    "        \n",
    "        # update weights between hidden and input layer\n",
    "        self.wih += self.lr * numpy.dot((hidden_errors * hidden_outputs * (1.0 - hidden_outputs)),\n",
    "                                       numpy.transpose(inputs))\n",
    "        \n",
    "    \n",
    "    def query(self, inputs_list):\n",
    "        # 2d transposed array\n",
    "        inputs = numpy.array(inputs_list, ndmin=2).T\n",
    "        \n",
    "        # calculate the output from input layer to hidden layer\n",
    "        hidden_inputs = numpy.dot(self.wih, inputs)\n",
    "        hidden_outputs = self.activation_function(hidden_inputs)\n",
    "        \n",
    "        # calculate the output from hidden layer to output layer\n",
    "        final_inputs = numpy.dot(self.who, hidden_outputs)\n",
    "        final_outputs = self.activation_function(final_inputs)\n",
    "        \n",
    "        return final_outputs\n",
    "    "
   ]
  },
  {
   "cell_type": "code",
   "execution_count": 202,
   "metadata": {},
   "outputs": [],
   "source": [
    "# set nodes & learning rate for neural network; model a simple 3 layer neural network\n",
    "input_nodes = 784\n",
    "hidden_nodes = 500\n",
    "output_nodes = 10\n",
    "learning_rate = 0.1\n",
    "\n",
    "n = NeuralNetwork(input_nodes, hidden_nodes, output_nodes, learning_rate)"
   ]
  },
  {
   "cell_type": "code",
   "execution_count": 213,
   "metadata": {},
   "outputs": [],
   "source": [
    "# load training data\n",
    "t_data = open('data/train_data.csv')\n",
    "t_list = t_data.readlines()\n",
    "t_data.close()"
   ]
  },
  {
   "cell_type": "code",
   "execution_count": 214,
   "metadata": {},
   "outputs": [],
   "source": [
    "# train neural network; may change the num of epochs to ~5 for better results\n",
    "epochs = 10\n",
    "for i in range(epochs):\n",
    "    for record in t_list:\n",
    "        all_values = record.split(',')\n",
    "\n",
    "        # scale & shift inputs\n",
    "        inputs = (numpy.asfarray(all_values[1:]) / 255 * 0.99) + 0.01\n",
    "        n.train(inputs, targets)\n",
    "\n",
    "        # create rotated inputs by +/- 10 degrees\n",
    "        input_p10 = scipy.ndimage.interpolation.rotate(inputs.reshape(28, 28), 10, cval=0.01, order=1, reshape=False)\n",
    "        input_n10 = scipy.ndimage.interpolation.rotate(inputs.reshape(28, 28), -10, cval=0.01, order=1, reshape=False)\n",
    "        \n",
    "        # set target for output vals\n",
    "        targets = numpy.zeros(output_nodes) + 0.01\n",
    "        targets[int(all_values[0])] = 0.99\n",
    "\n",
    "        n.train(input_p10.reshape(784), targets)\n",
    "        n.train(input_n10.reshape(784), targets)"
   ]
  },
  {
   "cell_type": "code",
   "execution_count": 212,
   "metadata": {},
   "outputs": [],
   "source": [
    "# get data for nn testing\n",
    "test_data = open('data/mnist_test.csv')\n",
    "test_list = test_data.readlines()\n",
    "test_data.close()"
   ]
  },
  {
   "cell_type": "code",
   "execution_count": 215,
   "metadata": {},
   "outputs": [
    {
     "name": "stdout",
     "output_type": "stream",
     "text": [
      "correctness: 0.9\n"
     ]
    }
   ],
   "source": [
    "# test nn; for the testing data it is around 96% accurate\n",
    "scoreboard = []\n",
    "\n",
    "for record in test_list:\n",
    "    all_values = record.split(',')\n",
    "    correct_label = int(all_values[0])\n",
    "    \n",
    "    # set inputs and get result from nn\n",
    "    inputs = (numpy.asfarray(all_values[1:]) / 255 * 0.99) + 0.01\n",
    "    outputs = n.query(inputs)\n",
    "    label = numpy.argmax(outputs)\n",
    "    \n",
    "    # add to scoreboard\n",
    "    if label == correct_label:\n",
    "        scoreboard.append(1)\n",
    "    else:\n",
    "        scoreboard.append(0)\n",
    "\n",
    "correct_values = len([x for x in scoreboard if x])\n",
    "\n",
    "print('correctness:', correct_values / len(scoreboard))"
   ]
  },
  {
   "cell_type": "code",
   "execution_count": 218,
   "metadata": {},
   "outputs": [
    {
     "name": "stdout",
     "output_type": "stream",
     "text": [
      "guess: 8\n"
     ]
    },
    {
     "data": {
      "image/png": "[encoded data removed]",
      "text/plain": [
       "<Figure size 432x288 with 1 Axes>"
      ]
     },
     "metadata": {
      "needs_background": "light"
     },
     "output_type": "display_data"
    }
   ],
   "source": [
    "# test own handwriting; not always precise so make sure you also train with these numbers\n",
    "im = imageio.imread('images/eight.png', as_gray=True)\n",
    "\n",
    "# account for flipped RGB values\n",
    "img_data = 255 - im.reshape(784)\n",
    "img_data = (img_data / 255 * 0.99) + 0.01\n",
    "outputs = n.query(img_data)\n",
    "res = numpy.argmax(outputs)\n",
    "matplotlib.pyplot.imshow(img_data.reshape((28, 28)), cmap='Greys', interpolation='None')\n",
    "\n",
    "print('guess:', res)"
   ]
  },
  {
   "cell_type": "code",
   "execution_count": null,
   "metadata": {},
   "outputs": [],
   "source": []
  }
 ],
 "metadata": {
  "kernelspec": {
   "display_name": "Python 3",
   "language": "python",
   "name": "python3"
  },
  "language_info": {
   "codemirror_mode": {
    "name": "ipython",
    "version": 3
   },
   "file_extension": ".py",
   "mimetype": "text/x-python",
   "name": "python",
   "nbconvert_exporter": "python",
   "pygments_lexer": "ipython3",
   "version": "3.7.4"
  }
 },
 "nbformat": 4,
 "nbformat_minor": 4
}
